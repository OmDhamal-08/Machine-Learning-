{
 "cells": [
  {
   "cell_type": "code",
   "execution_count": 1,
   "id": "b2fbe68c-3cb7-459f-95f6-87b7bd29f0da",
   "metadata": {},
   "outputs": [],
   "source": [
    "import pandas as pd\n",
    "import numpy as np\n",
    "from sklearn.model_selection import train_test_split\n",
    "from sklearn.preprocessing import StandardScaler, OneHotEncoder\n",
    "from sklearn.compose import ColumnTransformer\n",
    "from sklearn.pipeline import Pipeline\n",
    "from sklearn.impute import SimpleImputer\n",
    "from sklearn.metrics import mean_absolute_error, mean_squared_error, r2_score\n",
    "import tensorflow as tf\n",
    "from tensorflow import keras\n",
    "from tensorflow.keras import layers\n",
    "import matplotlib.pyplot as plt"
   ]
  },
  {
   "cell_type": "code",
   "execution_count": 2,
   "id": "6677a5a7-e42e-4ada-a9ef-a7c540286307",
   "metadata": {},
   "outputs": [],
   "source": [
    "df = pd.read_csv('Cardetails.csv')"
   ]
  },
  {
   "cell_type": "code",
   "execution_count": 3,
   "id": "281b01ca-727f-442f-ae5d-a6746dece916",
   "metadata": {},
   "outputs": [
    {
     "data": {
      "text/html": [
       "<div>\n",
       "<style scoped>\n",
       "    .dataframe tbody tr th:only-of-type {\n",
       "        vertical-align: middle;\n",
       "    }\n",
       "\n",
       "    .dataframe tbody tr th {\n",
       "        vertical-align: top;\n",
       "    }\n",
       "\n",
       "    .dataframe thead th {\n",
       "        text-align: right;\n",
       "    }\n",
       "</style>\n",
       "<table border=\"1\" class=\"dataframe\">\n",
       "  <thead>\n",
       "    <tr style=\"text-align: right;\">\n",
       "      <th></th>\n",
       "      <th>name</th>\n",
       "      <th>year</th>\n",
       "      <th>selling_price</th>\n",
       "      <th>km_driven</th>\n",
       "      <th>fuel</th>\n",
       "      <th>seller_type</th>\n",
       "      <th>transmission</th>\n",
       "      <th>owner</th>\n",
       "      <th>mileage</th>\n",
       "      <th>engine</th>\n",
       "      <th>max_power</th>\n",
       "      <th>torque</th>\n",
       "      <th>seats</th>\n",
       "    </tr>\n",
       "  </thead>\n",
       "  <tbody>\n",
       "    <tr>\n",
       "      <th>0</th>\n",
       "      <td>Maruti Swift Dzire VDI</td>\n",
       "      <td>2014</td>\n",
       "      <td>450000</td>\n",
       "      <td>145500.0</td>\n",
       "      <td>Diesel</td>\n",
       "      <td>Individual</td>\n",
       "      <td>Manual</td>\n",
       "      <td>First Owner</td>\n",
       "      <td>NaN</td>\n",
       "      <td>1248 CC</td>\n",
       "      <td>74 bhp</td>\n",
       "      <td>190Nm@ 2000rpm</td>\n",
       "      <td>5.0</td>\n",
       "    </tr>\n",
       "    <tr>\n",
       "      <th>1</th>\n",
       "      <td>Skoda Rapid 1.5 TDI Ambition</td>\n",
       "      <td>2014</td>\n",
       "      <td>370000</td>\n",
       "      <td>120000.0</td>\n",
       "      <td>Diesel</td>\n",
       "      <td>Individual</td>\n",
       "      <td>Manual</td>\n",
       "      <td>Second Owner</td>\n",
       "      <td>21.14 kmpl</td>\n",
       "      <td>1498 CC</td>\n",
       "      <td>103.52 bhp</td>\n",
       "      <td>250Nm@ 1500-2500rpm</td>\n",
       "      <td>5.0</td>\n",
       "    </tr>\n",
       "    <tr>\n",
       "      <th>2</th>\n",
       "      <td>Honda City 2017-2020 EXi</td>\n",
       "      <td>2006</td>\n",
       "      <td>158000</td>\n",
       "      <td>140000.0</td>\n",
       "      <td>Petrol</td>\n",
       "      <td>Individual</td>\n",
       "      <td>Manual</td>\n",
       "      <td>Third Owner</td>\n",
       "      <td>17.7 kmpl</td>\n",
       "      <td>1497 CC</td>\n",
       "      <td>78 bhp</td>\n",
       "      <td>12.7@ 2,700(kgm@ rpm)</td>\n",
       "      <td>5.0</td>\n",
       "    </tr>\n",
       "    <tr>\n",
       "      <th>3</th>\n",
       "      <td>Hyundai i20 Sportz Diesel</td>\n",
       "      <td>2010</td>\n",
       "      <td>225000</td>\n",
       "      <td>127000.0</td>\n",
       "      <td>Diesel</td>\n",
       "      <td>Individual</td>\n",
       "      <td>Manual</td>\n",
       "      <td>First Owner</td>\n",
       "      <td>23.0 kmpl</td>\n",
       "      <td>1396 CC</td>\n",
       "      <td>90 bhp</td>\n",
       "      <td>22.4 kgm at 1750-2750rpm</td>\n",
       "      <td>5.0</td>\n",
       "    </tr>\n",
       "    <tr>\n",
       "      <th>4</th>\n",
       "      <td>Maruti Swift VXI BSIII</td>\n",
       "      <td>2007</td>\n",
       "      <td>130000</td>\n",
       "      <td>120000.0</td>\n",
       "      <td>Petrol</td>\n",
       "      <td>Individual</td>\n",
       "      <td>Manual</td>\n",
       "      <td>First Owner</td>\n",
       "      <td>16.1 kmpl</td>\n",
       "      <td>1298 CC</td>\n",
       "      <td>88.2 bhp</td>\n",
       "      <td>11.5@ 4,500(kgm@ rpm)</td>\n",
       "      <td>5.0</td>\n",
       "    </tr>\n",
       "  </tbody>\n",
       "</table>\n",
       "</div>"
      ],
      "text/plain": [
       "                           name  year  selling_price  km_driven    fuel  \\\n",
       "0        Maruti Swift Dzire VDI  2014         450000   145500.0  Diesel   \n",
       "1  Skoda Rapid 1.5 TDI Ambition  2014         370000   120000.0  Diesel   \n",
       "2      Honda City 2017-2020 EXi  2006         158000   140000.0  Petrol   \n",
       "3     Hyundai i20 Sportz Diesel  2010         225000   127000.0  Diesel   \n",
       "4        Maruti Swift VXI BSIII  2007         130000   120000.0  Petrol   \n",
       "\n",
       "  seller_type transmission         owner     mileage   engine   max_power  \\\n",
       "0  Individual       Manual   First Owner         NaN  1248 CC      74 bhp   \n",
       "1  Individual       Manual  Second Owner  21.14 kmpl  1498 CC  103.52 bhp   \n",
       "2  Individual       Manual   Third Owner   17.7 kmpl  1497 CC      78 bhp   \n",
       "3  Individual       Manual   First Owner   23.0 kmpl  1396 CC      90 bhp   \n",
       "4  Individual       Manual   First Owner   16.1 kmpl  1298 CC    88.2 bhp   \n",
       "\n",
       "                     torque  seats  \n",
       "0            190Nm@ 2000rpm    5.0  \n",
       "1       250Nm@ 1500-2500rpm    5.0  \n",
       "2     12.7@ 2,700(kgm@ rpm)    5.0  \n",
       "3  22.4 kgm at 1750-2750rpm    5.0  \n",
       "4     11.5@ 4,500(kgm@ rpm)    5.0  "
      ]
     },
     "execution_count": 3,
     "metadata": {},
     "output_type": "execute_result"
    }
   ],
   "source": [
    "df.head()"
   ]
  },
  {
   "cell_type": "code",
   "execution_count": 4,
   "id": "593ca5ed-f649-46a5-a407-3a7ea997a134",
   "metadata": {},
   "outputs": [
    {
     "data": {
      "text/plain": [
       "name                0\n",
       "year                0\n",
       "selling_price       0\n",
       "km_driven         813\n",
       "fuel                0\n",
       "seller_type         0\n",
       "transmission        0\n",
       "owner               0\n",
       "mileage          1011\n",
       "engine           1008\n",
       "max_power         215\n",
       "torque            222\n",
       "seats             221\n",
       "dtype: int64"
      ]
     },
     "execution_count": 4,
     "metadata": {},
     "output_type": "execute_result"
    }
   ],
   "source": [
    "df.isnull().sum()"
   ]
  },
  {
   "cell_type": "code",
   "execution_count": 5,
   "id": "2a426a87-bab3-46b1-8f52-61dbc55b3d4f",
   "metadata": {},
   "outputs": [],
   "source": [
    "if 'engine' in df.columns:\n",
    "    df['engine'] = df['engine'].str.replace('CC', '', regex=False).str.strip()\n",
    "    df['engine'] = pd.to_numeric(df['engine'], errors='coerce')\n",
    "if 'max_power' in df.columns:\n",
    "    df['max_power'] = df['max_power'].str.replace('bhp', '', regex=False).str.strip()\n",
    "    df['max_power'] = pd.to_numeric(df['max_power'], errors='coerce')\n",
    "if 'milage' in df.columns:\n",
    "    df['mileage'] = df['mileage'].str.replace('Kmpl', '', regex=False).str.strip()\n",
    "    df['mileage'] = pd.to_numeric(df['mileage'], errors='coerce')"
   ]
  },
  {
   "cell_type": "code",
   "execution_count": 6,
   "id": "862d8f30-28b4-4685-ae7e-653d1e00b5e0",
   "metadata": {},
   "outputs": [],
   "source": [
    "y = df['selling_price']\n",
    "X=df.drop(['name','torque','selling_price'], axis=1)"
   ]
  },
  {
   "cell_type": "code",
   "execution_count": 7,
   "id": "10a3403d-212a-4b76-a1fc-b4d8692f15b9",
   "metadata": {},
   "outputs": [
    {
     "name": "stdout",
     "output_type": "stream",
     "text": [
      "      year  km_driven    fuel seller_type transmission                 owner  \\\n",
      "0     2014   145500.0  Diesel  Individual       Manual           First Owner   \n",
      "1     2014   120000.0  Diesel  Individual       Manual          Second Owner   \n",
      "2     2006   140000.0  Petrol  Individual       Manual           Third Owner   \n",
      "3     2010   127000.0  Diesel  Individual       Manual           First Owner   \n",
      "4     2007   120000.0  Petrol  Individual       Manual           First Owner   \n",
      "...    ...        ...     ...         ...          ...                   ...   \n",
      "8123  2013   110000.0  Petrol  Individual       Manual           First Owner   \n",
      "8124  2007   119000.0  Diesel  Individual       Manual  Fourth & Above Owner   \n",
      "8125  2009   120000.0  Diesel  Individual       Manual           First Owner   \n",
      "8126  2013    25000.0  Diesel  Individual       Manual           First Owner   \n",
      "8127  2013    25000.0  Diesel  Individual       Manual           First Owner   \n",
      "\n",
      "         mileage  engine  max_power  seats  \n",
      "0            NaN  1248.0      74.00    5.0  \n",
      "1     21.14 kmpl  1498.0     103.52    5.0  \n",
      "2      17.7 kmpl  1497.0      78.00    5.0  \n",
      "3      23.0 kmpl  1396.0      90.00    5.0  \n",
      "4      16.1 kmpl  1298.0      88.20    5.0  \n",
      "...          ...     ...        ...    ...  \n",
      "8123   18.5 kmpl  1197.0      82.85    5.0  \n",
      "8124   16.8 kmpl  1493.0     110.00    5.0  \n",
      "8125         NaN  1248.0      73.90    5.0  \n",
      "8126  23.57 kmpl  1396.0      70.00    5.0  \n",
      "8127         NaN  1396.0      70.00    5.0  \n",
      "\n",
      "[8128 rows x 10 columns]\n"
     ]
    }
   ],
   "source": [
    "print(X)"
   ]
  },
  {
   "cell_type": "code",
   "execution_count": 8,
   "id": "c32b2a4a-e452-4399-99ea-362ec3f7b5fa",
   "metadata": {},
   "outputs": [],
   "source": [
    "numerical_transformer = Pipeline(steps=[\n",
    "    ('imputer', SimpleImputer(strategy='median')),\n",
    "    ('scaler', StandardScaler())\n",
    "])\n",
    "\n",
    "categorical_transformer = Pipeline(steps=[\n",
    "    ('imputer', SimpleImputer(strategy='constant', fill_value='missing')),\n",
    "    ('onehot', OneHotEncoder(handle_unknown='ignore',sparse_output=False))\n",
    "])"
   ]
  },
  {
   "cell_type": "code",
   "execution_count": 9,
   "id": "1b8b3c91-9bb5-49c7-94e4-99201bdc5919",
   "metadata": {},
   "outputs": [],
   "source": [
    "numerical_cols = X.select_dtypes(include=['int64', 'float64']).columns\n",
    "categorical_cols = X.select_dtypes(include=['object']).columns"
   ]
  },
  {
   "cell_type": "code",
   "execution_count": 10,
   "id": "e9c3e6d7-980e-42e0-bd7b-45c936d171a4",
   "metadata": {},
   "outputs": [],
   "source": [
    "preprocessor = ColumnTransformer(\n",
    "    transformers=[\n",
    "        ('num', numerical_transformer, numerical_cols),\n",
    "        ('cat', categorical_transformer, categorical_cols)\n",
    "    ])"
   ]
  },
  {
   "cell_type": "code",
   "execution_count": 11,
   "id": "83468266-f4b5-474d-82ac-4af509e32056",
   "metadata": {},
   "outputs": [],
   "source": [
    "X_train, X_test, y_train, y_test = train_test_split(\n",
    "    X, y, test_size=0.2, random_state=42\n",
    ")"
   ]
  },
  {
   "cell_type": "code",
   "execution_count": 12,
   "id": "0f2690a9-35b3-418d-95bc-8d6497ff0207",
   "metadata": {},
   "outputs": [],
   "source": [
    "X_train_preprocessed = preprocessor.fit_transform(X_train)\n",
    "X_test_preprocessed = preprocessor.transform(X_test)"
   ]
  },
  {
   "cell_type": "code",
   "execution_count": 13,
   "id": "7177e3b4-71d8-4b81-9819-654094aeb5bf",
   "metadata": {},
   "outputs": [
    {
     "name": "stderr",
     "output_type": "stream",
     "text": [
      "C:\\Users\\OM DHAMAL\\AppData\\Local\\Programs\\Python\\Python312\\Lib\\site-packages\\keras\\src\\layers\\core\\dense.py:87: UserWarning: Do not pass an `input_shape`/`input_dim` argument to a layer. When using Sequential models, prefer using an `Input(shape)` object as the first layer in the model instead.\n",
      "  super().__init__(activity_regularizer=activity_regularizer, **kwargs)\n"
     ]
    }
   ],
   "source": [
    "model = keras.Sequential([\n",
    "    layers.Dense(128, activation='relu', input_shape=[X_train_preprocessed.shape[1]]),\n",
    "    layers.Dense(64, activation='relu'),\n",
    "    layers.Dense(32, activation='relu'),\n",
    "    layers.Dense(1)  \n",
    "])"
   ]
  },
  {
   "cell_type": "code",
   "execution_count": 14,
   "id": "437a2c86-6a02-45fb-bcc2-758e8451e5e3",
   "metadata": {},
   "outputs": [],
   "source": [
    "optimizer = keras.optimizers.Adam(learning_rate=0.001)\n",
    "model.compile(\n",
    "    optimizer=optimizer,\n",
    "    loss='mse',\n",
    "    metrics=['mae']\n",
    ")"
   ]
  },
  {
   "cell_type": "code",
   "execution_count": 15,
   "id": "1a301fab-4284-4c84-b4ee-bb447d884072",
   "metadata": {},
   "outputs": [
    {
     "name": "stdout",
     "output_type": "stream",
     "text": [
      "Epoch 1/40\n",
      "\u001b[1m204/204\u001b[0m \u001b[32m━━━━━━━━━━━━━━━━━━━━\u001b[0m\u001b[37m\u001b[0m \u001b[1m5s\u001b[0m 6ms/step - loss: 1036081627136.0000 - mae: 633339.8125 - val_loss: 1041373790208.0000 - val_mae: 624950.3750\n",
      "Epoch 2/40\n",
      "\u001b[1m204/204\u001b[0m \u001b[32m━━━━━━━━━━━━━━━━━━━━\u001b[0m\u001b[37m\u001b[0m \u001b[1m1s\u001b[0m 5ms/step - loss: 1032187150336.0000 - mae: 598148.9375 - val_loss: 736705511424.0000 - val_mae: 417098.8125\n",
      "Epoch 3/40\n",
      "\u001b[1m204/204\u001b[0m \u001b[32m━━━━━━━━━━━━━━━━━━━━\u001b[0m\u001b[37m\u001b[0m \u001b[1m1s\u001b[0m 5ms/step - loss: 605499686912.0000 - mae: 341548.5000 - val_loss: 385434877952.0000 - val_mae: 273550.2812\n",
      "Epoch 4/40\n",
      "\u001b[1m204/204\u001b[0m \u001b[32m━━━━━━━━━━━━━━━━━━━━\u001b[0m\u001b[37m\u001b[0m \u001b[1m1s\u001b[0m 4ms/step - loss: 351479136256.0000 - mae: 278371.5000 - val_loss: 279507009536.0000 - val_mae: 266898.4062\n",
      "Epoch 5/40\n",
      "\u001b[1m204/204\u001b[0m \u001b[32m━━━━━━━━━━━━━━━━━━━━\u001b[0m\u001b[37m\u001b[0m \u001b[1m1s\u001b[0m 4ms/step - loss: 276080492544.0000 - mae: 263599.5000 - val_loss: 224619937792.0000 - val_mae: 254366.1562\n",
      "Epoch 6/40\n",
      "\u001b[1m204/204\u001b[0m \u001b[32m━━━━━━━━━━━━━━━━━━━━\u001b[0m\u001b[37m\u001b[0m \u001b[1m1s\u001b[0m 5ms/step - loss: 214035890176.0000 - mae: 254555.8438 - val_loss: 192690716672.0000 - val_mae: 251076.2656\n",
      "Epoch 7/40\n",
      "\u001b[1m204/204\u001b[0m \u001b[32m━━━━━━━━━━━━━━━━━━━━\u001b[0m\u001b[37m\u001b[0m \u001b[1m1s\u001b[0m 5ms/step - loss: 186718617600.0000 - mae: 247635.9844 - val_loss: 175857041408.0000 - val_mae: 250056.7031\n",
      "Epoch 8/40\n",
      "\u001b[1m204/204\u001b[0m \u001b[32m━━━━━━━━━━━━━━━━━━━━\u001b[0m\u001b[37m\u001b[0m \u001b[1m1s\u001b[0m 5ms/step - loss: 174776565760.0000 - mae: 252508.9375 - val_loss: 164693819392.0000 - val_mae: 251468.9062\n",
      "Epoch 9/40\n",
      "\u001b[1m204/204\u001b[0m \u001b[32m━━━━━━━━━━━━━━━━━━━━\u001b[0m\u001b[37m\u001b[0m \u001b[1m1s\u001b[0m 4ms/step - loss: 159376588800.0000 - mae: 247342.1250 - val_loss: 155423621120.0000 - val_mae: 244957.3750\n",
      "Epoch 10/40\n",
      "\u001b[1m204/204\u001b[0m \u001b[32m━━━━━━━━━━━━━━━━━━━━\u001b[0m\u001b[37m\u001b[0m \u001b[1m1s\u001b[0m 4ms/step - loss: 149444526080.0000 - mae: 237636.3750 - val_loss: 145612210176.0000 - val_mae: 233333.5156\n",
      "Epoch 11/40\n",
      "\u001b[1m204/204\u001b[0m \u001b[32m━━━━━━━━━━━━━━━━━━━━\u001b[0m\u001b[37m\u001b[0m \u001b[1m1s\u001b[0m 4ms/step - loss: 149604696064.0000 - mae: 236309.3906 - val_loss: 134598713344.0000 - val_mae: 219978.2500\n",
      "Epoch 12/40\n",
      "\u001b[1m204/204\u001b[0m \u001b[32m━━━━━━━━━━━━━━━━━━━━\u001b[0m\u001b[37m\u001b[0m \u001b[1m1s\u001b[0m 5ms/step - loss: 123105419264.0000 - mae: 206704.6562 - val_loss: 123729428480.0000 - val_mae: 201547.2344\n",
      "Epoch 13/40\n",
      "\u001b[1m204/204\u001b[0m \u001b[32m━━━━━━━━━━━━━━━━━━━━\u001b[0m\u001b[37m\u001b[0m \u001b[1m1s\u001b[0m 5ms/step - loss: 112456105984.0000 - mae: 195153.3594 - val_loss: 113792688128.0000 - val_mae: 186484.5312\n",
      "Epoch 14/40\n",
      "\u001b[1m204/204\u001b[0m \u001b[32m━━━━━━━━━━━━━━━━━━━━\u001b[0m\u001b[37m\u001b[0m \u001b[1m1s\u001b[0m 5ms/step - loss: 120519639040.0000 - mae: 189520.0625 - val_loss: 104893292544.0000 - val_mae: 171701.9375\n",
      "Epoch 15/40\n",
      "\u001b[1m204/204\u001b[0m \u001b[32m━━━━━━━━━━━━━━━━━━━━\u001b[0m\u001b[37m\u001b[0m \u001b[1m1s\u001b[0m 5ms/step - loss: 98578759680.0000 - mae: 168309.5625 - val_loss: 96792174592.0000 - val_mae: 162462.9375\n",
      "Epoch 16/40\n",
      "\u001b[1m204/204\u001b[0m \u001b[32m━━━━━━━━━━━━━━━━━━━━\u001b[0m\u001b[37m\u001b[0m \u001b[1m1s\u001b[0m 5ms/step - loss: 92105924608.0000 - mae: 160683.9375 - val_loss: 89645826048.0000 - val_mae: 153428.5781\n",
      "Epoch 17/40\n",
      "\u001b[1m204/204\u001b[0m \u001b[32m━━━━━━━━━━━━━━━━━━━━\u001b[0m\u001b[37m\u001b[0m \u001b[1m1s\u001b[0m 4ms/step - loss: 85727600640.0000 - mae: 152172.2031 - val_loss: 83335135232.0000 - val_mae: 146891.8906\n",
      "Epoch 18/40\n",
      "\u001b[1m204/204\u001b[0m \u001b[32m━━━━━━━━━━━━━━━━━━━━\u001b[0m\u001b[37m\u001b[0m \u001b[1m1s\u001b[0m 4ms/step - loss: 76191637504.0000 - mae: 141161.9844 - val_loss: 77626466304.0000 - val_mae: 141100.2344\n",
      "Epoch 19/40\n",
      "\u001b[1m204/204\u001b[0m \u001b[32m━━━━━━━━━━━━━━━━━━━━\u001b[0m\u001b[37m\u001b[0m \u001b[1m1s\u001b[0m 5ms/step - loss: 72718000128.0000 - mae: 138007.8906 - val_loss: 72407220224.0000 - val_mae: 135540.8750\n",
      "Epoch 20/40\n",
      "\u001b[1m204/204\u001b[0m \u001b[32m━━━━━━━━━━━━━━━━━━━━\u001b[0m\u001b[37m\u001b[0m \u001b[1m1s\u001b[0m 5ms/step - loss: 59787526144.0000 - mae: 127575.6719 - val_loss: 68590231552.0000 - val_mae: 134276.2969\n",
      "Epoch 21/40\n",
      "\u001b[1m204/204\u001b[0m \u001b[32m━━━━━━━━━━━━━━━━━━━━\u001b[0m\u001b[37m\u001b[0m \u001b[1m1s\u001b[0m 5ms/step - loss: 54032457728.0000 - mae: 123436.9531 - val_loss: 63622795264.0000 - val_mae: 127989.2578\n",
      "Epoch 22/40\n",
      "\u001b[1m204/204\u001b[0m \u001b[32m━━━━━━━━━━━━━━━━━━━━\u001b[0m\u001b[37m\u001b[0m \u001b[1m1s\u001b[0m 5ms/step - loss: 49095540736.0000 - mae: 117047.9375 - val_loss: 59996454912.0000 - val_mae: 125011.3125\n",
      "Epoch 23/40\n",
      "\u001b[1m204/204\u001b[0m \u001b[32m━━━━━━━━━━━━━━━━━━━━\u001b[0m\u001b[37m\u001b[0m \u001b[1m1s\u001b[0m 5ms/step - loss: 53214343168.0000 - mae: 120035.7344 - val_loss: 56608235520.0000 - val_mae: 121723.0391\n",
      "Epoch 24/40\n",
      "\u001b[1m204/204\u001b[0m \u001b[32m━━━━━━━━━━━━━━━━━━━━\u001b[0m\u001b[37m\u001b[0m \u001b[1m1s\u001b[0m 4ms/step - loss: 47075020800.0000 - mae: 113444.4922 - val_loss: 53606588416.0000 - val_mae: 118726.6719\n",
      "Epoch 25/40\n",
      "\u001b[1m204/204\u001b[0m \u001b[32m━━━━━━━━━━━━━━━━━━━━\u001b[0m\u001b[37m\u001b[0m \u001b[1m1s\u001b[0m 5ms/step - loss: 47193845760.0000 - mae: 111713.6641 - val_loss: 50980290560.0000 - val_mae: 115944.5625\n",
      "Epoch 26/40\n",
      "\u001b[1m204/204\u001b[0m \u001b[32m━━━━━━━━━━━━━━━━━━━━\u001b[0m\u001b[37m\u001b[0m \u001b[1m1s\u001b[0m 5ms/step - loss: 45234692096.0000 - mae: 110369.9062 - val_loss: 48508710912.0000 - val_mae: 113071.7969\n",
      "Epoch 27/40\n",
      "\u001b[1m204/204\u001b[0m \u001b[32m━━━━━━━━━━━━━━━━━━━━\u001b[0m\u001b[37m\u001b[0m \u001b[1m1s\u001b[0m 5ms/step - loss: 37808418816.0000 - mae: 105790.5078 - val_loss: 46866915328.0000 - val_mae: 111223.5312\n",
      "Epoch 28/40\n",
      "\u001b[1m204/204\u001b[0m \u001b[32m━━━━━━━━━━━━━━━━━━━━\u001b[0m\u001b[37m\u001b[0m \u001b[1m1s\u001b[0m 4ms/step - loss: 39048560640.0000 - mae: 103662.3750 - val_loss: 44769042432.0000 - val_mae: 108572.5938\n",
      "Epoch 29/40\n",
      "\u001b[1m204/204\u001b[0m \u001b[32m━━━━━━━━━━━━━━━━━━━━\u001b[0m\u001b[37m\u001b[0m \u001b[1m1s\u001b[0m 4ms/step - loss: 39539380224.0000 - mae: 103706.7344 - val_loss: 43552755712.0000 - val_mae: 106964.0547\n",
      "Epoch 30/40\n",
      "\u001b[1m204/204\u001b[0m \u001b[32m━━━━━━━━━━━━━━━━━━━━\u001b[0m\u001b[37m\u001b[0m \u001b[1m1s\u001b[0m 5ms/step - loss: 39819231232.0000 - mae: 102340.0547 - val_loss: 42045317120.0000 - val_mae: 105177.8125\n",
      "Epoch 31/40\n",
      "\u001b[1m204/204\u001b[0m \u001b[32m━━━━━━━━━━━━━━━━━━━━\u001b[0m\u001b[37m\u001b[0m \u001b[1m1s\u001b[0m 5ms/step - loss: 33431296000.0000 - mae: 98418.1250 - val_loss: 41266827264.0000 - val_mae: 103966.4766\n",
      "Epoch 32/40\n",
      "\u001b[1m204/204\u001b[0m \u001b[32m━━━━━━━━━━━━━━━━━━━━\u001b[0m\u001b[37m\u001b[0m \u001b[1m1s\u001b[0m 5ms/step - loss: 29876922368.0000 - mae: 95452.9609 - val_loss: 40243994624.0000 - val_mae: 102060.3594\n",
      "Epoch 33/40\n",
      "\u001b[1m204/204\u001b[0m \u001b[32m━━━━━━━━━━━━━━━━━━━━\u001b[0m\u001b[37m\u001b[0m \u001b[1m1s\u001b[0m 5ms/step - loss: 32592254976.0000 - mae: 95202.3672 - val_loss: 38650032128.0000 - val_mae: 100314.5156\n",
      "Epoch 34/40\n",
      "\u001b[1m204/204\u001b[0m \u001b[32m━━━━━━━━━━━━━━━━━━━━\u001b[0m\u001b[37m\u001b[0m \u001b[1m1s\u001b[0m 5ms/step - loss: 32896151552.0000 - mae: 95540.2812 - val_loss: 37776150528.0000 - val_mae: 98889.8438\n",
      "Epoch 35/40\n",
      "\u001b[1m204/204\u001b[0m \u001b[32m━━━━━━━━━━━━━━━━━━━━\u001b[0m\u001b[37m\u001b[0m \u001b[1m1s\u001b[0m 5ms/step - loss: 31623649280.0000 - mae: 94239.6172 - val_loss: 37366558720.0000 - val_mae: 97994.0156\n",
      "Epoch 36/40\n",
      "\u001b[1m204/204\u001b[0m \u001b[32m━━━━━━━━━━━━━━━━━━━━\u001b[0m\u001b[37m\u001b[0m \u001b[1m1s\u001b[0m 5ms/step - loss: 32943640576.0000 - mae: 94489.1797 - val_loss: 36348317696.0000 - val_mae: 96663.6875\n",
      "Epoch 37/40\n",
      "\u001b[1m204/204\u001b[0m \u001b[32m━━━━━━━━━━━━━━━━━━━━\u001b[0m\u001b[37m\u001b[0m \u001b[1m1s\u001b[0m 4ms/step - loss: 28847214592.0000 - mae: 88983.6641 - val_loss: 35681632256.0000 - val_mae: 95878.8359\n",
      "Epoch 38/40\n",
      "\u001b[1m204/204\u001b[0m \u001b[32m━━━━━━━━━━━━━━━━━━━━\u001b[0m\u001b[37m\u001b[0m \u001b[1m1s\u001b[0m 5ms/step - loss: 30888644608.0000 - mae: 92391.2031 - val_loss: 35446587392.0000 - val_mae: 95432.2578\n",
      "Epoch 39/40\n",
      "\u001b[1m204/204\u001b[0m \u001b[32m━━━━━━━━━━━━━━━━━━━━\u001b[0m\u001b[37m\u001b[0m \u001b[1m1s\u001b[0m 5ms/step - loss: 28347422720.0000 - mae: 88882.3047 - val_loss: 34684477440.0000 - val_mae: 93970.4766\n",
      "Epoch 40/40\n",
      "\u001b[1m204/204\u001b[0m \u001b[32m━━━━━━━━━━━━━━━━━━━━\u001b[0m\u001b[37m\u001b[0m \u001b[1m1s\u001b[0m 5ms/step - loss: 26076411904.0000 - mae: 87613.5156 - val_loss: 34191935488.0000 - val_mae: 93343.7734\n"
     ]
    }
   ],
   "source": [
    "history = model.fit(\n",
    "    X_train_preprocessed, y_train,\n",
    "    validation_data=(X_test_preprocessed, y_test),\n",
    "    epochs=40,\n",
    "    batch_size=32,\n",
    "    verbose=1\n",
    ")"
   ]
  },
  {
   "cell_type": "code",
   "execution_count": 16,
   "id": "1e5bcc6c-ba22-44ba-bd94-29e6123c4b15",
   "metadata": {},
   "outputs": [
    {
     "name": "stdout",
     "output_type": "stream",
     "text": [
      "\n",
      "Test MAE: $93343.77\n",
      "Approximate Average Error: 14.66%\n"
     ]
    }
   ],
   "source": [
    "test_loss, test_mae = model.evaluate(X_test_preprocessed, y_test, verbose=0)\n",
    "print(f\"\\nTest MAE: ${test_mae:.2f}\")\n",
    "print(f\"Approximate Average Error: {test_mae/y_test.mean():.2%}\")"
   ]
  },
  {
   "cell_type": "code",
   "execution_count": 17,
   "id": "9aae9ce9-2c7e-48ad-898d-a7d419534021",
   "metadata": {},
   "outputs": [
    {
     "name": "stdout",
     "output_type": "stream",
     "text": [
      "\u001b[1m1/1\u001b[0m \u001b[32m━━━━━━━━━━━━━━━━━━━━\u001b[0m\u001b[37m\u001b[0m \u001b[1m0s\u001b[0m 148ms/step\n",
      "\n",
      "Sample prediction: $221085.53\n",
      "Actual value: $198000.00\n"
     ]
    }
   ],
   "source": [
    "sample_prediction = model.predict(X_test_preprocessed[:1])\n",
    "print(f\"\\nSample prediction: ${sample_prediction[0][0]:.2f}\")\n",
    "print(f\"Actual value: ${y_test.iloc[0]:.2f}\")"
   ]
  },
  {
   "cell_type": "code",
   "execution_count": 18,
   "id": "8f42b572-8e80-41ea-83cd-a32ed4c6bbe4",
   "metadata": {},
   "outputs": [
    {
     "data": {
      "image/png": "[encoded data removed]",
      "text/plain": [
       "<Figure size 1200x400 with 2 Axes>"
      ]
     },
     "metadata": {},
     "output_type": "display_data"
    }
   ],
   "source": [
    "plt.figure(figsize=(12, 4))\n",
    "plt.subplot(1, 2, 1)\n",
    "plt.plot(history.history['mae'], label='Training MAE')\n",
    "plt.plot(history.history['val_mae'], label='Validation MAE')\n",
    "plt.title('Model MAE')\n",
    "plt.ylabel('MAE')\n",
    "plt.xlabel('Epoch')\n",
    "plt.legend()\n",
    "\n",
    "plt.subplot(1, 2, 2)\n",
    "plt.plot(history.history['loss'], label='Training Loss')\n",
    "plt.plot(history.history['val_loss'], label='Validation Loss')\n",
    "plt.title('Model Loss')\n",
    "plt.ylabel('Loss')\n",
    "plt.xlabel('Epoch')\n",
    "plt.legend()\n",
    "\n",
    "plt.tight_layout()\n",
    "plt.show()"
   ]
  },
  {
   "cell_type": "code",
   "execution_count": null,
   "id": "c5003f1f-600d-405a-8784-73af4d3e4970",
   "metadata": {},
   "outputs": [],
   "source": []
  }
 ],
 "metadata": {
  "kernelspec": {
   "display_name": "Python 3 (ipykernel)",
   "language": "python",
   "name": "python3"
  },
  "language_info": {
   "codemirror_mode": {
    "name": "ipython",
    "version": 3
   },
   "file_extension": ".py",
   "mimetype": "text/x-python",
   "name": "python",
   "nbconvert_exporter": "python",
   "pygments_lexer": "ipython3",
   "version": "3.12.4"
  }
 },
 "nbformat": 4,
 "nbformat_minor": 5
}
